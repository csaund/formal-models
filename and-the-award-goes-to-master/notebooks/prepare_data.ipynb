{
 "cells": [
  {
   "cell_type": "markdown",
   "metadata": {},
   "source": [
    "# Preparing Scraped Data for Prediction\n",
    "\n",
    "This notebook describes the process in which the raw films.csv and nominations.csv files are \"wrangled\" into a workable format for our classifier(s). At the time of this writing (February 25, 2017), the resulting dataset is only used in a decision tree classifier. "
   ]
  },
  {
   "cell_type": "code",
   "execution_count": 15,
   "metadata": {
    "collapsed": true,
    "deletable": true,
    "editable": true
   },
   "outputs": [],
   "source": [
    "import re\n",
    "import pandas as pd\n",
    "import numpy as np\n",
    "\n",
    "pd.set_option('display.float_format', lambda x: '%.3f' % x)"
   ]
  },
  {
   "cell_type": "code",
   "execution_count": 16,
   "metadata": {
    "collapsed": false,
    "deletable": true,
    "editable": true
   },
   "outputs": [],
   "source": [
    "nominations = pd.read_csv('../data/nominations.csv')\n",
    "\n",
    "# clean out some obvious mistakes...\n",
    "nominations = nominations[~nominations['film'].isin(['2001: A Space Odyssey', 'Oliver!', 'Closely Observed Train'])]\n",
    "nominations = nominations[nominations['year'] >= 1980]\n",
    "\n",
    "# scraper pulled in some character names instead of film names...\n",
    "nominations.loc[nominations['film'] == 'Penny Lane', 'film'] = 'Almost Famous'\n",
    "nominations.loc[nominations['film'] == 'Sister James', 'film'] = 'Doubt'"
   ]
  },
  {
   "cell_type": "markdown",
   "metadata": {},
   "source": [
    "## Pivot Nominations\n",
    "\n",
    "Since we pull in four award types, we know that each nominee can have a maximum of four line items. The nominations table is pivoted to ensure that each nomination has its own unique line while still maintaining a count of wins per award. "
   ]
  },
  {
   "cell_type": "code",
   "execution_count": 17,
   "metadata": {
    "collapsed": false,
    "deletable": true,
    "editable": true
   },
   "outputs": [
    {
     "data": {
      "text/html": [
       "<div style=\"max-height:1000px;max-width:1500px;overflow:auto;\">\n",
       "<table border=\"1\" class=\"dataframe\">\n",
       "  <thead>\n",
       "    <tr style=\"text-align: right;\">\n",
       "      <th>award</th>\n",
       "      <th>year</th>\n",
       "      <th>category</th>\n",
       "      <th>film</th>\n",
       "      <th>name</th>\n",
       "      <th>BAFTA</th>\n",
       "      <th>Golden Globe</th>\n",
       "      <th>Guild</th>\n",
       "      <th>Oscar</th>\n",
       "    </tr>\n",
       "  </thead>\n",
       "  <tbody>\n",
       "    <tr>\n",
       "      <th>0</th>\n",
       "      <td>1980</td>\n",
       "      <td>Actor</td>\n",
       "      <td>All That Jazz</td>\n",
       "      <td>Roy Scheider</td>\n",
       "      <td>0.000</td>\n",
       "      <td>0.000</td>\n",
       "      <td>0.000</td>\n",
       "      <td>0.000</td>\n",
       "    </tr>\n",
       "    <tr>\n",
       "      <th>1</th>\n",
       "      <td>1980</td>\n",
       "      <td>Actor</td>\n",
       "      <td>Being There</td>\n",
       "      <td>Peter Sellers</td>\n",
       "      <td>0.000</td>\n",
       "      <td>0.000</td>\n",
       "      <td>0.000</td>\n",
       "      <td>0.000</td>\n",
       "    </tr>\n",
       "    <tr>\n",
       "      <th>2</th>\n",
       "      <td>1980</td>\n",
       "      <td>Actor</td>\n",
       "      <td>Coal Miner's Daughter</td>\n",
       "      <td>Tommy Lee Jones</td>\n",
       "      <td>0.000</td>\n",
       "      <td>0.000</td>\n",
       "      <td>0.000</td>\n",
       "      <td>0.000</td>\n",
       "    </tr>\n",
       "    <tr>\n",
       "      <th>3</th>\n",
       "      <td>1980</td>\n",
       "      <td>Actor</td>\n",
       "      <td>Hopscotch</td>\n",
       "      <td>Walter Matthau</td>\n",
       "      <td>0.000</td>\n",
       "      <td>0.000</td>\n",
       "      <td>0.000</td>\n",
       "      <td>0.000</td>\n",
       "    </tr>\n",
       "    <tr>\n",
       "      <th>4</th>\n",
       "      <td>1980</td>\n",
       "      <td>Actor</td>\n",
       "      <td>Kramer vs. Kramer</td>\n",
       "      <td>Dustin Hoffman</td>\n",
       "      <td>0.000</td>\n",
       "      <td>0.000</td>\n",
       "      <td>0.000</td>\n",
       "      <td>0.000</td>\n",
       "    </tr>\n",
       "  </tbody>\n",
       "</table>\n",
       "</div>"
      ],
      "text/plain": [
       "award  year category                   film             name  BAFTA  \\\n",
       "0      1980    Actor          All That Jazz     Roy Scheider  0.000   \n",
       "1      1980    Actor            Being There    Peter Sellers  0.000   \n",
       "2      1980    Actor  Coal Miner's Daughter  Tommy Lee Jones  0.000   \n",
       "3      1980    Actor              Hopscotch   Walter Matthau  0.000   \n",
       "4      1980    Actor      Kramer vs. Kramer   Dustin Hoffman  0.000   \n",
       "\n",
       "award  Golden Globe  Guild  Oscar  \n",
       "0             0.000  0.000  0.000  \n",
       "1             0.000  0.000  0.000  \n",
       "2             0.000  0.000  0.000  \n",
       "3             0.000  0.000  0.000  \n",
       "4             0.000  0.000  0.000  "
      ]
     },
     "execution_count": 17,
     "metadata": {},
     "output_type": "execute_result"
    }
   ],
   "source": [
    "wins = pd.pivot_table(nominations, values='winner', index=['year', 'category', 'film', 'name'], columns=['award'], aggfunc=np.sum)\n",
    "wins = wins.fillna(0) # if a nominee wasn't in a specific ceremony, we just fill it as a ZERO.\n",
    "\n",
    "wins.reset_index(inplace=True) # flattens the dataframe\n",
    "wins.head()"
   ]
  },
  {
   "cell_type": "markdown",
   "metadata": {},
   "source": [
    "## Merge Oscars with Nominations\n",
    "\n",
    "We only care about films that were nominated for an Academy Award. The `pd.merge` function is used to perform a left join between the `oscars` dataframe and the `wins`. In other words, we are pruning out any films that were *never* nominated for an Academy Award based on the join fields. "
   ]
  },
  {
   "cell_type": "code",
   "execution_count": 18,
   "metadata": {
    "collapsed": false,
    "deletable": true,
    "editable": true
   },
   "outputs": [
    {
     "data": {
      "text/html": [
       "<div style=\"max-height:1000px;max-width:1500px;overflow:auto;\">\n",
       "<table border=\"1\" class=\"dataframe\">\n",
       "  <thead>\n",
       "    <tr style=\"text-align: right;\">\n",
       "      <th></th>\n",
       "      <th>year</th>\n",
       "      <th>category</th>\n",
       "      <th>film</th>\n",
       "      <th>name</th>\n",
       "      <th>BAFTA</th>\n",
       "      <th>Golden Globe</th>\n",
       "      <th>Guild</th>\n",
       "      <th>Oscar</th>\n",
       "    </tr>\n",
       "  </thead>\n",
       "  <tbody>\n",
       "    <tr>\n",
       "      <th>0</th>\n",
       "      <td>1980</td>\n",
       "      <td>Actor</td>\n",
       "      <td>Raging Bull</td>\n",
       "      <td>Robert De Niro</td>\n",
       "      <td>0.000</td>\n",
       "      <td>1.000</td>\n",
       "      <td>0.000</td>\n",
       "      <td>1.000</td>\n",
       "    </tr>\n",
       "    <tr>\n",
       "      <th>1</th>\n",
       "      <td>1980</td>\n",
       "      <td>Actor</td>\n",
       "      <td>The Great Santini</td>\n",
       "      <td>Robert Duvall</td>\n",
       "      <td>0.000</td>\n",
       "      <td>0.000</td>\n",
       "      <td>0.000</td>\n",
       "      <td>0.000</td>\n",
       "    </tr>\n",
       "    <tr>\n",
       "      <th>2</th>\n",
       "      <td>1980</td>\n",
       "      <td>Actor</td>\n",
       "      <td>The Elephant Man</td>\n",
       "      <td>John Hurt</td>\n",
       "      <td>1.000</td>\n",
       "      <td>0.000</td>\n",
       "      <td>0.000</td>\n",
       "      <td>0.000</td>\n",
       "    </tr>\n",
       "    <tr>\n",
       "      <th>3</th>\n",
       "      <td>1980</td>\n",
       "      <td>Actor</td>\n",
       "      <td>Tribute</td>\n",
       "      <td>Jack Lemmon</td>\n",
       "      <td>0.000</td>\n",
       "      <td>0.000</td>\n",
       "      <td>0.000</td>\n",
       "      <td>0.000</td>\n",
       "    </tr>\n",
       "    <tr>\n",
       "      <th>4</th>\n",
       "      <td>1980</td>\n",
       "      <td>Actor</td>\n",
       "      <td>The Stunt Man</td>\n",
       "      <td>Peter O'Toole</td>\n",
       "      <td>0.000</td>\n",
       "      <td>0.000</td>\n",
       "      <td>0.000</td>\n",
       "      <td>0.000</td>\n",
       "    </tr>\n",
       "  </tbody>\n",
       "</table>\n",
       "</div>"
      ],
      "text/plain": [
       "   year category               film            name  BAFTA  Golden Globe  \\\n",
       "0  1980    Actor        Raging Bull  Robert De Niro  0.000         1.000   \n",
       "1  1980    Actor  The Great Santini   Robert Duvall  0.000         0.000   \n",
       "2  1980    Actor   The Elephant Man       John Hurt  1.000         0.000   \n",
       "3  1980    Actor            Tribute     Jack Lemmon  0.000         0.000   \n",
       "4  1980    Actor      The Stunt Man   Peter O'Toole  0.000         0.000   \n",
       "\n",
       "   Guild  Oscar  \n",
       "0  0.000  1.000  \n",
       "1  0.000  0.000  \n",
       "2  0.000  0.000  \n",
       "3  0.000  0.000  \n",
       "4  0.000  0.000  "
      ]
     },
     "execution_count": 18,
     "metadata": {},
     "output_type": "execute_result"
    }
   ],
   "source": [
    "oscars = nominations[nominations['award'] == 'Oscar'][['year', 'category', 'film', 'name']]\n",
    "awards = pd.merge(oscars, wins, how='left', on=['year', 'category', 'name', 'film'])\n",
    "awards.head()"
   ]
  },
  {
   "cell_type": "markdown",
   "metadata": {
    "collapsed": true,
    "deletable": true,
    "editable": true
   },
   "source": [
    "## Read in Films Dataframe\n",
    "\n",
    "We pull the films.csv file into a dataframe called `films`. This is then merged to the `awards` dataframe from above. Note that we only include specific fields. Fields like `metacritic_score` and `bom_worldwide` have been excluded because too many null values exist, which would have an adverse effect on our model.\n",
    "\n"
   ]
  },
  {
   "cell_type": "code",
   "execution_count": 19,
   "metadata": {
    "collapsed": true,
    "deletable": true,
    "editable": true
   },
   "outputs": [],
   "source": [
    "films = pd.read_csv('../data/films.csv')"
   ]
  },
  {
   "cell_type": "code",
   "execution_count": 20,
   "metadata": {
    "collapsed": false,
    "deletable": true,
    "editable": true
   },
   "outputs": [],
   "source": [
    "relevant_fields = [\n",
    "    'film',\n",
    "    'country',\n",
    "    'release_date', \n",
    "    'running_time', \n",
    "    'mpaa',\n",
    "    'box_office',\n",
    "    'budget',\n",
    "    'imdb_score', \n",
    "    'rt_audience_score', \n",
    "    'rt_critic_score', \n",
    "    'stars_count', \n",
    "    'writers_count'\n",
    "]\n",
    "\n",
    "df = pd.merge(awards, films[relevant_fields], how='left', on='film')"
   ]
  },
  {
   "cell_type": "code",
   "execution_count": 21,
   "metadata": {
    "collapsed": false,
    "deletable": true,
    "editable": true
   },
   "outputs": [
    {
     "name": "stdout",
     "output_type": "stream",
     "text": [
      "Total Observations: 1506\n",
      "\n",
      "Observations with NaN fields:\n",
      "9 \tcountry\n",
      "2 \trunning_time\n",
      "9 \tmpaa\n",
      "17 \tbox_office\n",
      "137 \tbudget\n",
      "2 \trt_audience_score\n",
      "4 \trt_critic_score\n",
      "5 \tstars_count\n"
     ]
    }
   ],
   "source": [
    "print \"Total Observations:\", len(df)\n",
    "print\n",
    "print \"Observations with NaN fields:\"\n",
    "\n",
    "for column in df.columns:\n",
    "    l = len(df[df[column].isnull()])\n",
    "    if l != 0:\n",
    "        print len(df[df[column].isnull()]), \"\\t\", column"
   ]
  },
  {
   "cell_type": "markdown",
   "metadata": {},
   "source": [
    "So we obviously have some null values, which is [disappointing](https://www.youtube.com/watch?v=cdEQmpVIE4A). We'll take the time to clean these up."
   ]
  },
  {
   "cell_type": "code",
   "execution_count": 22,
   "metadata": {
    "collapsed": false,
    "deletable": true,
    "editable": true,
    "scrolled": true
   },
   "outputs": [],
   "source": [
    "### FIX RUN TIME ###\n",
    "# df[df['running_time'].isnull()] # Hilary and Jackie\n",
    "df.loc[df['film'] == 'Hilary and Jackie', 'running_time'] = '121 minutes'\n",
    "df.loc[df['film'] == 'Fanny and Alexander', 'running_time'] = '121 minutes'\n",
    "\n",
    "### FIX MPAA RATING ###\n",
    "df = df.replace('NOT RATED', np.nan)\n",
    "df = df.replace('UNRATED', np.nan)\n",
    "df = df.replace('M', np.nan)\n",
    "df = df.replace('NC-17', np.nan)\n",
    "df = df.replace('APPROVED', np.nan)\n",
    "\n",
    "# df[df['mpaa'].isnull()]\n",
    "df.loc[df['film'].isin(['L.A. Confidential', 'In the Loop']), 'mpaa'] = 'R'\n",
    "df.loc[df['film'].isin(['True Grit', 'A Room with a View']), 'mpaa'] = 'PG-13'\n",
    "\n",
    "### FIX COUNTRY ###\n",
    "# df[df['country'].isnull()] # Ulee's Gold, The Constant Gardner, Dave\n",
    "df.loc[df['film'].isin([\"Ulee's Gold\", \"Dave\"]), 'country'] = 'United States'\n",
    "df.loc[df['country'].isnull(), 'country'] = 'United Kingdom'\n",
    "df.loc[df['country'] == 'Germany\\\\', 'country'] = 'Germany'\n",
    "df.loc[df['country'] == 'United States & Australia', 'country'] = 'United States'\n",
    "df['country'].unique()\n",
    "\n",
    "### FIX STARS COUNT ###\n",
    "# df[df['stars_count'].isnull()]\n",
    "\n",
    "df.loc[df['film'].isin(['Before Sunset', 'Before Midnight']), 'stars_count'] = 2\n",
    "df.loc[df['film'] == 'Dick Tracy', 'stars_count'] = 10\n",
    "df.loc[df['stars_count'].isnull(), 'stars_count'] = 1\n",
    "\n",
    "df = df[~df['release_date'].isin(['1970'])]"
   ]
  },
  {
   "cell_type": "code",
   "execution_count": 23,
   "metadata": {
    "collapsed": false,
    "deletable": true,
    "editable": true
   },
   "outputs": [],
   "source": [
    "def to_numeric(value):\n",
    "    multiplier = 1\n",
    "    \n",
    "    try:\n",
    "        value = re.sub(r'([$,])', '', str(value)).strip() \n",
    "        value = re.sub(r'\\([^)]*\\)', '', str(value)).strip()\n",
    "        \n",
    "        if 'million' in value:\n",
    "            multiplier = 1000000  \n",
    "        elif 'billion' in value:\n",
    "            multiplier = 10000000\n",
    "        \n",
    "        for replace in ['US', 'billion', 'million']:\n",
    "            value = value.replace(replace, '')\n",
    "            \n",
    "        value = value.split(' ')[0]\n",
    "        \n",
    "        if isinstance(value, str):\n",
    "            value = value.split('-')[0]\n",
    "        \n",
    "        value = float(value) * multiplier\n",
    "    except:\n",
    "        return np.nan\n",
    "    \n",
    "    return value\n",
    "\n",
    "def to_runtime(value):\n",
    "    try:\n",
    "        return re.findall(r'\\d+', value)[0]\n",
    "    except:\n",
    "        return np.nan\n",
    "\n",
    "                   \n",
    "### Apply function to appropriate fields ###\n",
    "for field in ['box_office', 'budget']:\n",
    "    df[field] = df[field].apply(to_numeric)\n",
    "    \n",
    "df['release_month'] = df['release_date'].apply(lambda y: int(y.split('-')[1]))\n",
    "df['running_time'] = df['running_time'].apply(to_runtime)"
   ]
  },
  {
   "cell_type": "code",
   "execution_count": 25,
   "metadata": {
    "collapsed": false,
    "deletable": true,
    "editable": true
   },
   "outputs": [
    {
     "data": {
      "text/plain": [
       "['Dark Eyes',\n",
       " 'Pelle the Conqueror',\n",
       " 'Resurrection',\n",
       " 'The Bostonians',\n",
       " 'My Life as a Dog',\n",
       " 'Hamlet',\n",
       " 'The Official Story',\n",
       " 'The Whales of August']"
      ]
     },
     "execution_count": 25,
     "metadata": {},
     "output_type": "execute_result"
    }
   ],
   "source": [
    "### FIX BOX OFFICE ###\n",
    "list(df[df['mpaa'].isnull()]['film'].unique())\n",
    "\n",
    "# cleaned_box_offices = {\n",
    "#     'Mona Lisa': 5794184, \n",
    "#     'Testament': 2044982, \n",
    "#     'Pennies from Heaven': 9171289, \n",
    "#     'The Year of Living Dangerously': 10300000\n",
    "# }\n",
    "\n",
    "# for key, value in cleaned_box_offices.items():\n",
    "#     df.loc[df['film'] == key, 'box_office'] = value\n",
    "    \n",
    "# ### FIX BUDGET ###\n",
    "# # df[(df['budget'].isnull())]['film'].unique()\n",
    "\n",
    "# cleaned_budgets = {'Juno': 6500000, 'Blue Sky': 16000000, 'Pollock': 6000000 }\n",
    "\n",
    "# for key, value in cleaned_budgets.items():\n",
    "#     df.loc[df['film'] == key, 'budget'] = value"
   ]
  },
  {
   "cell_type": "markdown",
   "metadata": {},
   "source": [
    "## Adding some more fields and removing remaining nulls\n",
    "\n",
    "While we are pretty happy with our MPAA field, we can't input it into a predictive model as is. The decision tree would not know how to treat a string (e.g., \"PG\"). So, instead, we pivot those values into separate, boolean fields.\n",
    "\n",
    "So instead of...\n",
    "\n",
    "|film | mpaa |\n",
    "|---------|-------|\n",
    "|Raging Bull | R |\n",
    "| Kramer vs. Kramer | PG |\n",
    "\n",
    "We get...\n",
    "\n",
    "| film | G | PG | PG13 | R |\n",
    "|-------|---|----|------|---|\n",
    "|Raging Bull | 0 | 0 | 0 | 1 |\n",
    "| Kramer vs. Kramer | 0 | 1 | 0 | 0 |\n",
    "\n",
    "This essentially \"quantifies\" the MPAA feature so that our algorithm can properly interpret it. Note that we perform a similar action for production country (just for the USA) and seasonality. "
   ]
  },
  {
   "cell_type": "code",
   "execution_count": 26,
   "metadata": {
    "collapsed": false,
    "deletable": true,
    "editable": true
   },
   "outputs": [],
   "source": [
    "df = df[~df['mpaa'].isnull()]"
   ]
  },
  {
   "cell_type": "code",
   "execution_count": 27,
   "metadata": {
    "collapsed": false,
    "deletable": true,
    "editable": true
   },
   "outputs": [],
   "source": [
    "df['produced_USA'] = df['country'].apply(lambda x: 1 if x == 'United States' else 0)\n",
    "\n",
    "for column in df['mpaa'].unique():\n",
    "    df[column.replace('-', '')] = df['mpaa'].apply(lambda x: 1 if x == column else 0)\n",
    "\n",
    "df['q1_release'] = df['release_month'].apply(lambda m: 1 if m <= 3 else 0)\n",
    "df['q2_release'] = df['release_month'].apply(lambda m: 1 if m > 3 and m <= 6 else 0)\n",
    "df['q3_release'] = df['release_month'].apply(lambda m: 1 if m > 6 and m <= 9 else 0)\n",
    "df['q4_release'] = df['release_month'].apply(lambda m: 1 if m > 9 else 0)"
   ]
  },
  {
   "cell_type": "code",
   "execution_count": 28,
   "metadata": {
    "collapsed": true
   },
   "outputs": [],
   "source": [
    "df.to_csv('../data/analysis.csv', index=False)"
   ]
  },
  {
   "cell_type": "code",
   "execution_count": 29,
   "metadata": {
    "collapsed": true
   },
   "outputs": [],
   "source": [
    "del df['mpaa']\n",
    "del df['country']\n",
    "del df['release_date']\n",
    "del df['release_month']\n",
    "del df['budget']\n",
    "\n",
    "for column in df.columns:\n",
    "    df = df[~df[column].isnull()]"
   ]
  },
  {
   "cell_type": "code",
   "execution_count": 30,
   "metadata": {
    "collapsed": false,
    "deletable": true,
    "editable": true
   },
   "outputs": [],
   "source": [
    "df.to_csv('../data/prepared.csv', index=False)"
   ]
  }
 ],
 "metadata": {
  "kernelspec": {
   "display_name": "Python 2",
   "language": "python",
   "name": "python2"
  },
  "language_info": {
   "codemirror_mode": {
    "name": "ipython",
    "version": 2
   },
   "file_extension": ".py",
   "mimetype": "text/x-python",
   "name": "python",
   "nbconvert_exporter": "python",
   "pygments_lexer": "ipython2",
   "version": "2.7.10"
  }
 },
 "nbformat": 4,
 "nbformat_minor": 2
}
